{
 "cells": [
  {
   "cell_type": "markdown",
   "id": "d445e606-8578-41d3-aeb0-959f85e87af9",
   "metadata": {},
   "source": [
    "ASSIGNMENT_1_BASIC "
   ]
  },
  {
   "cell_type": "markdown",
   "id": "e1195c48-e2c4-404f-98a4-7a7c677fff2f",
   "metadata": {},
   "source": [
    "Q 1 = In the below elements which of them are values or an expression? eg:- values can be\r\n",
    "integer or string and expressions will be mathematical operators.\r\n",
    "*\r\n",
    "&#39;hello&#39;\r\n",
    "-87.8\r\n",
    "-\r\n",
    "/\r\n",
    "+\r\n",
    "6"
   ]
  },
  {
   "cell_type": "markdown",
   "id": "a5f08301-8f6f-4301-8849-48fba73672a6",
   "metadata": {},
   "source": [
    "ANS 1 = :1. Which of the following are operators, and which are values? * → OPERATOR 'hello' → VALUE -88.8 → VALUE - → OPERATOR / → OPERATOR + → OPERATOR 6 → VALUE "
   ]
  },
  {
   "cell_type": "markdown",
   "id": "cc9e8d57-761e-4e99-a40a-7759be0cff4b",
   "metadata": {},
   "source": [
    "Q 2 = 2. What is the difference between string and variable?"
   ]
  },
  {
   "cell_type": "markdown",
   "id": "69fecd76-585c-49c8-abed-c72596a80022",
   "metadata": {},
   "source": [
    "ANS 2 = Variables are symbols that you can use to store data in a program. You can think of them as an empty box that you fill with some data or value. Strings are data, so we can use them to fill up a variable. "
   ]
  },
  {
   "cell_type": "markdown",
   "id": "6aacba2c-4ef1-4641-a87b-8220b8934282",
   "metadata": {},
   "source": [
    " Q 3 = Describe three different data types."
   ]
  },
  {
   "cell_type": "markdown",
   "id": "9115278a-1ed7-4265-b882-18e41b7225e2",
   "metadata": {},
   "source": [
    "ANS 3 =  integer (int), floating-Point (float) and complex (complex)"
   ]
  },
  {
   "cell_type": "markdown",
   "id": "e2781d85-7fb9-4306-af23-c1c42784e8b1",
   "metadata": {},
   "source": [
    "Q 4 = What is an expression made up of? What do all expressions do?"
   ]
  },
  {
   "cell_type": "markdown",
   "id": "60e58bda-35aa-4ae3-ad91-3f5a90bb818d",
   "metadata": {},
   "source": [
    "ANS 4 = An expression is a construct made up of variables, operators, and method invocations, which are constructed according to the syntax of the language, that evaluates to a single value."
   ]
  },
  {
   "cell_type": "markdown",
   "id": "1f39d531-1a9c-4bb6-b5f0-4da7a16e10f6",
   "metadata": {},
   "source": [
    "Q 5 = This assignment statements, like spam = 10. What is the difference between an\r\n",
    "expression and a statement?"
   ]
  },
  {
   "cell_type": "markdown",
   "id": "42498c24-5a56-4c18-a00b-55797aaf0ef5",
   "metadata": {},
   "source": [
    "ANS 5 = An expression is any piece of code that evaluates to a value. For example, 2 + 3 is an expression that evaluates to 5. A statement, on the other hand, is a piece of code that performs an action, but does not necessarily have a value. For example, a variable assignment statement like spam = 10 does not have a value, it simply assigns the value 10 to the variable spam. So, the main difference between expressions and statements is that expressions always evaluate to a value, while statements perform some action or modify the program's state."
   ]
  },
  {
   "cell_type": "markdown",
   "id": "02be73d7-a9f8-45ae-9956-8bb4ac45bfcc",
   "metadata": {},
   "source": [
    "Q 6 = After running the following code, what does the variable bacon contain?\r\n",
    "bacon = 22\r\n",
    "bacon + 1"
   ]
  },
  {
   "cell_type": "markdown",
   "id": "bcfc9acf-05c3-478d-800a-466ba6c70329",
   "metadata": {},
   "source": [
    "ANS 6 = 21"
   ]
  },
  {
   "cell_type": "markdown",
   "id": "295a774a-7d57-4e2d-8eeb-0425193720ed",
   "metadata": {},
   "source": [
    "Q 7 = What should the values of the following two terms be?\r\n",
    "&#39;spam&#39; + &#39;spamspam&#39;\r\n",
    "&#39;spam&#39; * 3"
   ]
  },
  {
   "cell_type": "markdown",
   "id": "a688a832-90b9-434b-8d90-8e5101c36f84",
   "metadata": {},
   "source": [
    "ANS 7 = spamspamspam spamspamspam"
   ]
  },
  {
   "cell_type": "markdown",
   "id": "0167451f-179b-452a-a944-dfffa640e2ba",
   "metadata": {},
   "source": [
    "Q 8 = Why is eggs a valid variable name while 100 is invalid?"
   ]
  },
  {
   "cell_type": "markdown",
   "id": "70020907-d218-474f-81c8-e9383d4958d8",
   "metadata": {},
   "source": [
    "ANS 8 = 100 is an integer value not a variable name"
   ]
  },
  {
   "cell_type": "markdown",
   "id": "9eaffe00-0fc4-4f80-9771-0cd35861712b",
   "metadata": {},
   "source": [
    "Q 9 = What three functions can be used to get the integer, floating-point number, or string\r\n",
    "version of a value?"
   ]
  },
  {
   "cell_type": "markdown",
   "id": "cf07137b-74c3-40da-9c58-dbbf16d37432",
   "metadata": {},
   "source": [
    "ANS 9 = str(), int(), and float() "
   ]
  },
  {
   "cell_type": "markdown",
   "id": "7329cce5-a6c1-425f-a069-2d965eafb8b3",
   "metadata": {},
   "source": [
    "Q 10 = Why does this expression cause an error? How can you fix it?\r\n",
    "&#39;I have eaten &#39; + 99 + &#39; burritos.&#39;"
   ]
  },
  {
   "cell_type": "markdown",
   "id": "e89c7b0c-b074-4684-a1a3-adc451484ef1",
   "metadata": {},
   "source": [
    "ANS 10 = Because it is evaluating 99 as a string, not an integer. To fix: 'I have eaten ' + str(99) + ' burritos.' "
   ]
  }
 ],
 "metadata": {
  "kernelspec": {
   "display_name": "Python 3 (ipykernel)",
   "language": "python",
   "name": "python3"
  },
  "language_info": {
   "codemirror_mode": {
    "name": "ipython",
    "version": 3
   },
   "file_extension": ".py",
   "mimetype": "text/x-python",
   "name": "python",
   "nbconvert_exporter": "python",
   "pygments_lexer": "ipython3",
   "version": "3.12.4"
  }
 },
 "nbformat": 4,
 "nbformat_minor": 5
}
